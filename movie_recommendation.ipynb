{
  "nbformat": 4,
  "nbformat_minor": 0,
  "metadata": {
    "anaconda-cloud": {},
    "kernelspec": {
      "display_name": "Python [conda root]",
      "language": "python",
      "name": "conda-root-py"
    },
    "language_info": {
      "codemirror_mode": {
        "name": "ipython",
        "version": 3
      },
      "file_extension": ".py",
      "mimetype": "text/x-python",
      "name": "python",
      "nbconvert_exporter": "python",
      "pygments_lexer": "ipython3",
      "version": "3.5.3"
    },
    "colab": {
      "name": "movie_recommendation.ipynb",
      "provenance": [],
      "collapsed_sections": [],
      "include_colab_link": true
    }
  },
  "cells": [
    {
      "cell_type": "markdown",
      "metadata": {
        "id": "view-in-github",
        "colab_type": "text"
      },
      "source": [
        "<a href=\"https://colab.research.google.com/github/profshai/pyspark-big-data/blob/main/movie_recommendation.ipynb\" target=\"_parent\"><img src=\"https://colab.research.google.com/assets/colab-badge.svg\" alt=\"Open In Colab\"/></a>"
      ]
    },
    {
      "cell_type": "markdown",
      "metadata": {
        "id": "OIRYgpN5S-MU"
      },
      "source": [
        "# Movie recommendation using collaborative filtering\n",
        "\n",
        "The dataset is the movielens data set (https://grouplens.org/datasets/movielens/."
      ]
    },
    {
      "cell_type": "code",
      "metadata": {
        "colab": {
          "base_uri": "https://localhost:8080/"
        },
        "id": "HCD5nZXBSyZf",
        "outputId": "f9348858-a348-4f57-c09b-5dbcb8fbeb9b"
      },
      "source": [
        "pip install pyspark"
      ],
      "execution_count": 1,
      "outputs": [
        {
          "output_type": "stream",
          "text": [
            "Collecting pyspark\n",
            "\u001b[?25l  Downloading https://files.pythonhosted.org/packages/89/db/e18cfd78e408de957821ec5ca56de1250645b05f8523d169803d8df35a64/pyspark-3.1.2.tar.gz (212.4MB)\n",
            "\u001b[K     |████████████████████████████████| 212.4MB 67kB/s \n",
            "\u001b[?25hCollecting py4j==0.10.9\n",
            "\u001b[?25l  Downloading https://files.pythonhosted.org/packages/9e/b6/6a4fb90cd235dc8e265a6a2067f2a2c99f0d91787f06aca4bcf7c23f3f80/py4j-0.10.9-py2.py3-none-any.whl (198kB)\n",
            "\u001b[K     |████████████████████████████████| 204kB 19.1MB/s \n",
            "\u001b[?25hBuilding wheels for collected packages: pyspark\n",
            "  Building wheel for pyspark (setup.py) ... \u001b[?25l\u001b[?25hdone\n",
            "  Created wheel for pyspark: filename=pyspark-3.1.2-py2.py3-none-any.whl size=212880768 sha256=f6e31ac405118098fa0b312b2dfffae1325ec0108aa7177ae0c74c8757e79b82\n",
            "  Stored in directory: /root/.cache/pip/wheels/40/1b/2c/30f43be2627857ab80062bef1527c0128f7b4070b6b2d02139\n",
            "Successfully built pyspark\n",
            "Installing collected packages: py4j, pyspark\n",
            "Successfully installed py4j-0.10.9 pyspark-3.1.2\n"
          ],
          "name": "stdout"
        }
      ]
    },
    {
      "cell_type": "markdown",
      "metadata": {
        "id": "5gugY1K2WYN_"
      },
      "source": [
        "### Import libraries"
      ]
    },
    {
      "cell_type": "code",
      "metadata": {
        "collapsed": true,
        "id": "n4eo55RES-MW"
      },
      "source": [
        "from pyspark.sql import SparkSession"
      ],
      "execution_count": 2,
      "outputs": []
    },
    {
      "cell_type": "code",
      "metadata": {
        "collapsed": true,
        "id": "VTJiS4_FS-MX"
      },
      "source": [
        "spark = SparkSession.builder.appName('recommender').getOrCreate()"
      ],
      "execution_count": 3,
      "outputs": []
    },
    {
      "cell_type": "markdown",
      "metadata": {
        "id": "T7wCgxEsS-MY"
      },
      "source": [
        "Spark MLlib library for Machine Learning provides a Collaborative Filtering implementation by using Alternating Least Squares. The implementation in MLlib has these parameters:\n",
        "\n",
        "* numBlocks is the number of blocks used to parallelize computation (set to -1 to auto-configure).\n",
        "* rank is the number of latent factors in the model.\n",
        "* iterations is the number of iterations to run.\n",
        "* lambda specifies the regularization parameter in ALS.\n",
        "* implicitPrefs specifies whether to use the explicit feedback ALS variant or one adapted for implicit feedback data.\n",
        "* alpha is a parameter applicable to the implicit feedback variant of ALS that governs the baseline confidence in preference observations.\n",
        "\n",
        "Let's see this all in action!"
      ]
    },
    {
      "cell_type": "code",
      "metadata": {
        "collapsed": true,
        "id": "2PgJfL0vS-MY"
      },
      "source": [
        "from pyspark.ml.evaluation import RegressionEvaluator\n",
        "from pyspark.ml.recommendation import ALS"
      ],
      "execution_count": 5,
      "outputs": []
    },
    {
      "cell_type": "markdown",
      "metadata": {
        "id": "4fPsGfYsTc9X"
      },
      "source": [
        "### Import dataset"
      ]
    },
    {
      "cell_type": "code",
      "metadata": {
        "id": "PhYO0Z3hS-MZ"
      },
      "source": [
        "data = spark.read.csv('movielens_ratings.csv',inferSchema=True,header=True)"
      ],
      "execution_count": 6,
      "outputs": []
    },
    {
      "cell_type": "code",
      "metadata": {
        "colab": {
          "base_uri": "https://localhost:8080/"
        },
        "id": "yxxZ-i0IS-Ma",
        "outputId": "5bd8ed97-14b6-4e72-9085-106fd8d82e17"
      },
      "source": [
        "data.head()"
      ],
      "execution_count": 7,
      "outputs": [
        {
          "output_type": "execute_result",
          "data": {
            "text/plain": [
              "Row(movieId=2, rating=3.0, userId=0)"
            ]
          },
          "metadata": {
            "tags": []
          },
          "execution_count": 7
        }
      ]
    },
    {
      "cell_type": "code",
      "metadata": {
        "colab": {
          "base_uri": "https://localhost:8080/"
        },
        "id": "zqDWf5LfS-Mb",
        "outputId": "9136bf22-cd1f-4d27-e5a6-c37e5ab9935b"
      },
      "source": [
        "data.describe().show()"
      ],
      "execution_count": 8,
      "outputs": [
        {
          "output_type": "stream",
          "text": [
            "+-------+------------------+------------------+------------------+\n",
            "|summary|           movieId|            rating|            userId|\n",
            "+-------+------------------+------------------+------------------+\n",
            "|  count|              1501|              1501|              1501|\n",
            "|   mean| 49.40572951365756|1.7741505662891406|14.383744170552964|\n",
            "| stddev|28.937034065088994| 1.187276166124803| 8.591040424293272|\n",
            "|    min|                 0|               1.0|                 0|\n",
            "|    max|                99|               5.0|                29|\n",
            "+-------+------------------+------------------+------------------+\n",
            "\n"
          ],
          "name": "stdout"
        }
      ]
    },
    {
      "cell_type": "markdown",
      "metadata": {
        "id": "i-1iB4ZaTgfP"
      },
      "source": [
        "### Split data"
      ]
    },
    {
      "cell_type": "code",
      "metadata": {
        "collapsed": true,
        "id": "HnlhQnOeS-Mc"
      },
      "source": [
        "(training, test) = data.randomSplit([0.8, 0.2])"
      ],
      "execution_count": 9,
      "outputs": []
    },
    {
      "cell_type": "markdown",
      "metadata": {
        "id": "Qjok446wTkkt"
      },
      "source": [
        "### Build model"
      ]
    },
    {
      "cell_type": "code",
      "metadata": {
        "collapsed": true,
        "id": "t_5STX1LS-Mc"
      },
      "source": [
        "# Build the recommendation model using ALS on the training data\n",
        "als = ALS(maxIter=5, regParam=0.01, userCol=\"userId\", itemCol=\"movieId\", ratingCol=\"rating\")\n",
        "model = als.fit(training)"
      ],
      "execution_count": 10,
      "outputs": []
    },
    {
      "cell_type": "markdown",
      "metadata": {
        "id": "lyofJqFPS-Mc"
      },
      "source": [
        "### Evaluate model"
      ]
    },
    {
      "cell_type": "code",
      "metadata": {
        "collapsed": true,
        "id": "gn5dT5W8S-Mc"
      },
      "source": [
        "# Compute the RMSE on the test data\n",
        "predictions = model.transform(test)"
      ],
      "execution_count": 11,
      "outputs": []
    },
    {
      "cell_type": "code",
      "metadata": {
        "colab": {
          "base_uri": "https://localhost:8080/"
        },
        "id": "dQ0huCEoS-Md",
        "outputId": "5295e836-b960-4ca0-9838-7f39baa25454"
      },
      "source": [
        "predictions.show()"
      ],
      "execution_count": 12,
      "outputs": [
        {
          "output_type": "stream",
          "text": [
            "+-------+------+------+-----------+\n",
            "|movieId|rating|userId| prediction|\n",
            "+-------+------+------+-----------+\n",
            "|     31|   4.0|    12|  2.0425363|\n",
            "|     31|   1.0|    13|  1.2831385|\n",
            "|     31|   1.0|    24|  1.8250816|\n",
            "|     85|   1.0|    12|  1.2649267|\n",
            "|     85|   1.0|    13|  2.2662847|\n",
            "|     85|   1.0|     4|   2.869074|\n",
            "|     65|   1.0|    16| 0.57939017|\n",
            "|     65|   2.0|     3|  2.2559707|\n",
            "|     65|   1.0|     2|  2.2925167|\n",
            "|     53|   1.0|     9|   2.147821|\n",
            "|     53|   1.0|     7|  1.3996441|\n",
            "|     53|   1.0|    25|   0.443898|\n",
            "|     53|   5.0|    21|  3.4773057|\n",
            "|     78|   1.0|    20| 0.46641803|\n",
            "|     78|   1.0|    11|  1.0706434|\n",
            "|     34|   1.0|    28| 0.98601615|\n",
            "|     34|   1.0|    19|  1.0932337|\n",
            "|     34|   4.0|     2|  0.1441027|\n",
            "|     81|   3.0|    26|    4.40609|\n",
            "|     28|   3.0|     1|-0.36992237|\n",
            "+-------+------+------+-----------+\n",
            "only showing top 20 rows\n",
            "\n"
          ],
          "name": "stdout"
        }
      ]
    },
    {
      "cell_type": "markdown",
      "metadata": {
        "id": "IUVuFeZYUWUH"
      },
      "source": [
        "The predictions are not so good. This is because of the small dataset. "
      ]
    },
    {
      "cell_type": "code",
      "metadata": {
        "colab": {
          "base_uri": "https://localhost:8080/"
        },
        "id": "EMkY3JKdS-Md",
        "outputId": "3105a579-32b6-4372-fa4c-af09fa339676"
      },
      "source": [
        "evaluator = RegressionEvaluator(metricName=\"rmse\", labelCol=\"rating\",predictionCol=\"prediction\")\n",
        "rmse = evaluator.evaluate(predictions)\n",
        "print(\"Root-mean-square error = \" + str(rmse))"
      ],
      "execution_count": 13,
      "outputs": [
        {
          "output_type": "stream",
          "text": [
            "Root-mean-square error = 1.6741877405710142\n"
          ],
          "name": "stdout"
        }
      ]
    },
    {
      "cell_type": "markdown",
      "metadata": {
        "id": "Bgy_CAhPS-Md"
      },
      "source": [
        "The RMSE described our error in terms of the stars rating column."
      ]
    },
    {
      "cell_type": "markdown",
      "metadata": {
        "id": "oiWKCr--S-Md"
      },
      "source": [
        "### Recommend a movie to a new user"
      ]
    },
    {
      "cell_type": "code",
      "metadata": {
        "collapsed": true,
        "id": "bXOBy2iZS-Md"
      },
      "source": [
        "single_user = test.filter(test['userId']==11).select(['movieId','userId'])"
      ],
      "execution_count": 14,
      "outputs": []
    },
    {
      "cell_type": "code",
      "metadata": {
        "colab": {
          "base_uri": "https://localhost:8080/"
        },
        "id": "z_76kq-US-Md",
        "outputId": "2a259be1-b5c5-40b4-9440-ffbd007e4c81"
      },
      "source": [
        "# UserId 11 had 10 ratings in the test data set \n",
        "single_user.show()"
      ],
      "execution_count": 15,
      "outputs": [
        {
          "output_type": "stream",
          "text": [
            "+-------+------+\n",
            "|movieId|userId|\n",
            "+-------+------+\n",
            "|     16|    11|\n",
            "|     22|    11|\n",
            "|     25|    11|\n",
            "|     36|    11|\n",
            "|     41|    11|\n",
            "|     51|    11|\n",
            "|     61|    11|\n",
            "|     77|    11|\n",
            "|     78|    11|\n",
            "|     94|    11|\n",
            "+-------+------+\n",
            "\n"
          ],
          "name": "stdout"
        }
      ]
    },
    {
      "cell_type": "code",
      "metadata": {
        "collapsed": true,
        "id": "nk6DjDCIS-Me"
      },
      "source": [
        "reccomendations = model.transform(single_user)"
      ],
      "execution_count": 16,
      "outputs": []
    },
    {
      "cell_type": "code",
      "metadata": {
        "colab": {
          "base_uri": "https://localhost:8080/"
        },
        "id": "iVjEtRYhS-Me",
        "outputId": "70db6501-9395-4be5-9b3c-65cb44f5ffff"
      },
      "source": [
        "reccomendations.orderBy('prediction',ascending=False).show()"
      ],
      "execution_count": 17,
      "outputs": [
        {
          "output_type": "stream",
          "text": [
            "+-------+------+----------+\n",
            "|movieId|userId|prediction|\n",
            "+-------+------+----------+\n",
            "|     94|    11| 3.9720926|\n",
            "|     22|    11| 3.8743114|\n",
            "|     36|    11| 3.5741959|\n",
            "|     77|    11| 3.1154115|\n",
            "|     51|    11|  2.313581|\n",
            "|     61|    11| 1.4004419|\n",
            "|     41|    11| 1.3451228|\n",
            "|     78|    11| 1.0706434|\n",
            "|     25|    11|0.32700703|\n",
            "|     16|    11|-1.3389496|\n",
            "+-------+------+----------+\n",
            "\n"
          ],
          "name": "stdout"
        }
      ]
    },
    {
      "cell_type": "markdown",
      "metadata": {
        "id": "ilCalao2Vi1Y"
      },
      "source": [
        "userId 11 will enjoy movieId 18 so should be recommended first. Don't recommend movieId 16 as they are likely to hate it."
      ]
    },
    {
      "cell_type": "markdown",
      "metadata": {
        "id": "LvU-lndES-Me"
      },
      "source": [
        "End of Notebook!"
      ]
    }
  ]
}