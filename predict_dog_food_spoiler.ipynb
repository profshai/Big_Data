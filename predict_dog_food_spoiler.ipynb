{
  "nbformat": 4,
  "nbformat_minor": 0,
  "metadata": {
    "anaconda-cloud": {},
    "kernelspec": {
      "display_name": "Python [conda root]",
      "language": "python",
      "name": "conda-root-py"
    },
    "language_info": {
      "codemirror_mode": {
        "name": "ipython",
        "version": 3
      },
      "file_extension": ".py",
      "mimetype": "text/x-python",
      "name": "python",
      "nbconvert_exporter": "python",
      "pygments_lexer": "ipython3",
      "version": "3.5.3"
    },
    "colab": {
      "name": "predict_dog_food_spoiler.ipynb",
      "provenance": [],
      "collapsed_sections": [],
      "include_colab_link": true
    }
  },
  "cells": [
    {
      "cell_type": "markdown",
      "metadata": {
        "id": "view-in-github",
        "colab_type": "text"
      },
      "source": [
        "<a href=\"https://colab.research.google.com/github/profshai/pyspark-big-data/blob/main/predict_dog_food_spoiler.ipynb\" target=\"_parent\"><img src=\"https://colab.research.google.com/assets/colab-badge.svg\" alt=\"Open In Colab\"/></a>"
      ]
    },
    {
      "cell_type": "markdown",
      "metadata": {
        "id": "qxDxn2OHGKpr"
      },
      "source": [
        "# Predict what causes the dog food to spoil using Random Forest"
      ]
    },
    {
      "cell_type": "markdown",
      "metadata": {
        "id": "sjHkn1SnGKpu"
      },
      "source": [
        "A dog food company mixes up a batch of preservative that contains 4 different preservative chemicals (A,B,C,D) and then is completed with a \"filler\" chemical. The food scientists believe one of the A,B,C, or D preservatives is causing the problem.\n",
        "\n",
        "In this exercise, we want to use Random Forest to find out which parameter had the most predicitive power, thus finding out which chemical causes the early spoiling!\n",
        "\n",
        "* Pres_A : Percentage of preservative A in the mix\n",
        "* Pres_B : Percentage of preservative B in the mix\n",
        "* Pres_C : Percentage of preservative C in the mix\n",
        "* Pres_D : Percentage of preservative D in the mix\n",
        "* Spoiled: Label indicating whether or not the dog food batch was spoiled."
      ]
    },
    {
      "cell_type": "code",
      "metadata": {
        "colab": {
          "base_uri": "https://localhost:8080/"
        },
        "id": "RDqVlELZHmfO",
        "outputId": "8a3657ca-6ff1-4048-969b-5548ee329d09"
      },
      "source": [
        "pip install pyspark"
      ],
      "execution_count": null,
      "outputs": [
        {
          "output_type": "stream",
          "text": [
            "Collecting pyspark\n",
            "\u001b[?25l  Downloading https://files.pythonhosted.org/packages/89/db/e18cfd78e408de957821ec5ca56de1250645b05f8523d169803d8df35a64/pyspark-3.1.2.tar.gz (212.4MB)\n",
            "\u001b[K     |████████████████████████████████| 212.4MB 70kB/s \n",
            "\u001b[?25hCollecting py4j==0.10.9\n",
            "\u001b[?25l  Downloading https://files.pythonhosted.org/packages/9e/b6/6a4fb90cd235dc8e265a6a2067f2a2c99f0d91787f06aca4bcf7c23f3f80/py4j-0.10.9-py2.py3-none-any.whl (198kB)\n",
            "\u001b[K     |████████████████████████████████| 204kB 17.4MB/s \n",
            "\u001b[?25hBuilding wheels for collected packages: pyspark\n",
            "  Building wheel for pyspark (setup.py) ... \u001b[?25l\u001b[?25hdone\n",
            "  Created wheel for pyspark: filename=pyspark-3.1.2-py2.py3-none-any.whl size=212880768 sha256=c8603f6b9bf38ebf768182f7963ca7de75bada1a857919521c1406b359d14ec1\n",
            "  Stored in directory: /root/.cache/pip/wheels/40/1b/2c/30f43be2627857ab80062bef1527c0128f7b4070b6b2d02139\n",
            "Successfully built pyspark\n",
            "Installing collected packages: py4j, pyspark\n",
            "Successfully installed py4j-0.10.9 pyspark-3.1.2\n"
          ],
          "name": "stdout"
        }
      ]
    },
    {
      "cell_type": "code",
      "metadata": {
        "collapsed": true,
        "id": "VXMEsEtTGKpv"
      },
      "source": [
        "#Tree methods Example\n",
        "from pyspark.sql import SparkSession\n",
        "spark = SparkSession.builder.appName('dogfood').getOrCreate()"
      ],
      "execution_count": null,
      "outputs": []
    },
    {
      "cell_type": "code",
      "metadata": {
        "collapsed": true,
        "id": "bfU2nQYfGKpw"
      },
      "source": [
        "# Load training data\n",
        "data = spark.read.csv('dog_food.csv',inferSchema=True,header=True)"
      ],
      "execution_count": null,
      "outputs": []
    },
    {
      "cell_type": "code",
      "metadata": {
        "colab": {
          "base_uri": "https://localhost:8080/"
        },
        "id": "0nAEjEx0GKpx",
        "outputId": "4d432d5e-2fa8-482b-fadf-71f0316e86ce"
      },
      "source": [
        "data.printSchema()"
      ],
      "execution_count": null,
      "outputs": [
        {
          "output_type": "stream",
          "text": [
            "root\n",
            " |-- A: integer (nullable = true)\n",
            " |-- B: integer (nullable = true)\n",
            " |-- C: double (nullable = true)\n",
            " |-- D: integer (nullable = true)\n",
            " |-- Spoiled: double (nullable = true)\n",
            "\n"
          ],
          "name": "stdout"
        }
      ]
    },
    {
      "cell_type": "code",
      "metadata": {
        "colab": {
          "base_uri": "https://localhost:8080/"
        },
        "id": "DZuf1j-_GKpz",
        "outputId": "7a6a0693-afcf-407c-8926-020f147c0557"
      },
      "source": [
        "data.head()"
      ],
      "execution_count": null,
      "outputs": [
        {
          "output_type": "execute_result",
          "data": {
            "text/plain": [
              "Row(A=4, B=2, C=12.0, D=3, Spoiled=1.0)"
            ]
          },
          "metadata": {
            "tags": []
          },
          "execution_count": 5
        }
      ]
    },
    {
      "cell_type": "code",
      "metadata": {
        "colab": {
          "base_uri": "https://localhost:8080/"
        },
        "id": "rZ6sXPFxGKpz",
        "outputId": "e34081c4-9698-496f-e559-75049b88987b"
      },
      "source": [
        "data.describe().show()"
      ],
      "execution_count": null,
      "outputs": [
        {
          "output_type": "stream",
          "text": [
            "+-------+------------------+------------------+------------------+------------------+-------------------+\n",
            "|summary|                 A|                 B|                 C|                 D|            Spoiled|\n",
            "+-------+------------------+------------------+------------------+------------------+-------------------+\n",
            "|  count|               490|               490|               490|               490|                490|\n",
            "|   mean|  5.53469387755102| 5.504081632653061| 9.126530612244897| 5.579591836734694| 0.2857142857142857|\n",
            "| stddev|2.9515204234399057|2.8537966089662063|2.0555451971054275|2.8548369309982857|0.45221563164613465|\n",
            "|    min|                 1|                 1|               5.0|                 1|                0.0|\n",
            "|    max|                10|                10|              14.0|                10|                1.0|\n",
            "+-------+------------------+------------------+------------------+------------------+-------------------+\n",
            "\n"
          ],
          "name": "stdout"
        }
      ]
    },
    {
      "cell_type": "code",
      "metadata": {
        "collapsed": true,
        "id": "GTJW08vyGKp0"
      },
      "source": [
        "# Import VectorAssembler and Vectors\n",
        "from pyspark.ml.linalg import Vectors\n",
        "from pyspark.ml.feature import VectorAssembler"
      ],
      "execution_count": null,
      "outputs": []
    },
    {
      "cell_type": "code",
      "metadata": {
        "colab": {
          "base_uri": "https://localhost:8080/"
        },
        "id": "tS8BTCWBGKp1",
        "outputId": "3fb0cce9-08b7-446b-c690-a7e5e29e2d4a"
      },
      "source": [
        "data.columns"
      ],
      "execution_count": null,
      "outputs": [
        {
          "output_type": "execute_result",
          "data": {
            "text/plain": [
              "['A', 'B', 'C', 'D', 'Spoiled']"
            ]
          },
          "metadata": {
            "tags": []
          },
          "execution_count": 9
        }
      ]
    },
    {
      "cell_type": "code",
      "metadata": {
        "id": "KPk42OHJGKp2"
      },
      "source": [
        "assembler = VectorAssembler(inputCols=['A', 'B', 'C', 'D'],outputCol=\"features\")"
      ],
      "execution_count": null,
      "outputs": []
    },
    {
      "cell_type": "code",
      "metadata": {
        "collapsed": true,
        "id": "Yn82ALa-GKp3"
      },
      "source": [
        "output = assembler.transform(data)"
      ],
      "execution_count": null,
      "outputs": []
    },
    {
      "cell_type": "code",
      "metadata": {
        "collapsed": true,
        "id": "41dKvyn_GKp3"
      },
      "source": [
        "from pyspark.ml.classification import RandomForestClassifier"
      ],
      "execution_count": null,
      "outputs": []
    },
    {
      "cell_type": "code",
      "metadata": {
        "collapsed": true,
        "id": "EBk6lXDAGKp3"
      },
      "source": [
        "rfc = RandomForestClassifier(labelCol='Spoiled',featuresCol='features')"
      ],
      "execution_count": null,
      "outputs": []
    },
    {
      "cell_type": "code",
      "metadata": {
        "colab": {
          "base_uri": "https://localhost:8080/"
        },
        "id": "is3Ue0LLGKp4",
        "outputId": "93dd88fc-2266-4f7e-f851-b34f63934b85"
      },
      "source": [
        "output.printSchema()"
      ],
      "execution_count": null,
      "outputs": [
        {
          "output_type": "stream",
          "text": [
            "root\n",
            " |-- A: integer (nullable = true)\n",
            " |-- B: integer (nullable = true)\n",
            " |-- C: double (nullable = true)\n",
            " |-- D: integer (nullable = true)\n",
            " |-- Spoiled: double (nullable = true)\n",
            " |-- features: vector (nullable = true)\n",
            "\n"
          ],
          "name": "stdout"
        }
      ]
    },
    {
      "cell_type": "code",
      "metadata": {
        "colab": {
          "base_uri": "https://localhost:8080/"
        },
        "id": "pJPVaTdVGKp4",
        "outputId": "056f4003-430c-4099-a2fc-562abc2e0535"
      },
      "source": [
        "final_data = output.select('features','Spoiled')\n",
        "final_data.head()"
      ],
      "execution_count": null,
      "outputs": [
        {
          "output_type": "execute_result",
          "data": {
            "text/plain": [
              "Row(features=DenseVector([4.0, 2.0, 12.0, 3.0]), Spoiled=1.0)"
            ]
          },
          "metadata": {
            "tags": []
          },
          "execution_count": 24
        }
      ]
    },
    {
      "cell_type": "code",
      "metadata": {
        "id": "RkLKTSgTGKp5"
      },
      "source": [
        "rfc_model = rfc.fit(final_data)"
      ],
      "execution_count": null,
      "outputs": []
    },
    {
      "cell_type": "code",
      "metadata": {
        "colab": {
          "base_uri": "https://localhost:8080/"
        },
        "id": "MkphkKM7GKp5",
        "outputId": "8a67f80b-5b90-4182-a764-01f5d88df47f"
      },
      "source": [
        "rfc_model.featureImportances"
      ],
      "execution_count": null,
      "outputs": [
        {
          "output_type": "execute_result",
          "data": {
            "text/plain": [
              "SparseVector(4, {0: 0.0246, 1: 0.0134, 2: 0.9367, 3: 0.0253})"
            ]
          },
          "metadata": {
            "tags": []
          },
          "execution_count": 26
        }
      ]
    },
    {
      "cell_type": "markdown",
      "metadata": {
        "id": "7MI22VMTGKp5"
      },
      "source": [
        "From the result, The feature at index 2 (Chemical C) is by far the most important feature, meaning it is causing the early spoilage!"
      ]
    },
    {
      "cell_type": "markdown",
      "metadata": {
        "id": "rxPyVJtfJCZU"
      },
      "source": [
        "End of Notebook!"
      ]
    }
  ]
}